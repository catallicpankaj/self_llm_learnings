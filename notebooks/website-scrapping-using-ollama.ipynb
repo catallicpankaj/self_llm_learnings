{
 "cells": [
  {
   "cell_type": "markdown",
   "id": "f52fe1ef",
   "metadata": {},
   "source": [
    "<p align=\"center\">\n",
    "  <img src=\"../resources/Pankajtechblogs.png\" alt=\"Pankaj Tech Blogs\" width=\"320\"/>\n",
    "</p>\n",
    "\n",
    "# Welcome to the first notebook\n",
    "\n",
    "## What are we going to achieve and learn here\n",
    "\n",
    "This notebook tells us how to scrape the text content from a website using Python (we will use a existing library here), then summarize that content using OpenAI's GPT model. It covers:\n",
    "\n",
    "- Importing required libraries for web requests, HTML parsing, environment management, and OpenAI API access.\n",
    "- Loading the OpenAI API key from environment variables.\n",
    "- Defining a class to fetch and extract text from a given website URL.\n",
    "- Displaying the scraped text in a Jupyter notebook.\n",
    "- Sending the website content to an OpenAI GPT model with a custom prompt to generate a concise, markdown-formatted summary.\n",
    "- Displaying the generated summary in the notebook.\n",
    "- The workflow is: scrape → display raw text → summarize with LLM → display summary.\n",
    "- As an example I will use my own tech blogs website - https://pankajtechblogs.dev/ - please feel free to visit if not done yet. :)\n",
    "\n",
    "*As first step - let's import the necessary Python libraries and packages that will assist us throughout our code.*\n",
    "\n",
    "**Brief summary of what we gonna use:**\n",
    "\n",
    "- **os:** Provides functions to interact with the operating system, such as reading environment variables or file paths.\n",
    "\n",
    "- **requests:** Allows you to send HTTP requests easily, useful for fetching data from web APIs or websites.\n",
    "\n",
    "- **dotenv.load_dotenv:** Loads environment variables from a .env file into your environment, often used for managing secrets like API keys.\n",
    "\n",
    "- **bs4.BeautifulSoup:** Parses and extracts data from HTML or XML documents, commonly used for web scraping.\n",
    "\n",
    "- **IPython.display.display, Markdown:** Lets you display rich content (like formatted Markdown) directly in Jupyter notebooks.\n",
    "\n",
    "- **openai.OpenAI:** Provides access to the OpenAI API, enabling you to interact with models like GPT for tasks such as text generation or summarization.\n"
   ]
  },
  {
   "cell_type": "code",
   "execution_count": 5,
   "id": "921aa085",
   "metadata": {},
   "outputs": [],
   "source": [
    "import requests\n",
    "from bs4 import BeautifulSoup\n",
    "from IPython.display import Markdown, display"
   ]
  },
  {
   "cell_type": "code",
   "execution_count": 6,
   "id": "28c6763a",
   "metadata": {},
   "outputs": [],
   "source": [
    "OLLAMA_API = \"http://localhost:11434/api/chat\"\n",
    "HEADERS = {\"Content-Type\": \"application/json\"}\n",
    "MODEL = \"llama3.2:3b\""
   ]
  },
  {
   "cell_type": "code",
   "execution_count": 7,
   "id": "6608efcd",
   "metadata": {},
   "outputs": [],
   "source": [
    "messages = [\n",
    "    {\"role\": \"user\", \"content\": \"Hello GPT, I want to scrape a website and get the text from it. Can you help me with that?\"}\n",
    "]"
   ]
  },
  {
   "cell_type": "markdown",
   "id": "73bb8d90",
   "metadata": {},
   "source": [
    "Now lets define a function that will \n",
    "  1. Take a URL as input\n",
    "  2. Sends a HTTP GET request to retrieve the webpage\n",
    "  3. Parses the HTML content using BeautifulSoup python library which we just imported above\n",
    "  4. Then extracts all the text from the page\n",
    "  5. Returns it. \n",
    "\n",
    "And if there is an error during the request, it prints an error message and returns None."
   ]
  },
  {
   "cell_type": "code",
   "execution_count": 8,
   "id": "b844c694",
   "metadata": {},
   "outputs": [],
   "source": [
    "class WebsiteScraper:\n",
    "    def __init__(self, url):\n",
    "        try:\n",
    "            self.url = url\n",
    "            response = requests.get(url, headers=HEADERS)\n",
    "            response.raise_for_status()  # Raise an error for bad responses\n",
    "            soup = BeautifulSoup(response.content, 'html.parser')\n",
    "            content = soup.get_text()\n",
    "            self.content = content\n",
    "        except requests.exceptions.RequestException as e:\n",
    "            print(f\"Error fetching the website: {e}\")\n",
    "            self.content = None"
   ]
  },
  {
   "cell_type": "markdown",
   "id": "6c2b2dd3",
   "metadata": {},
   "source": [
    "Now lets write a function that will display the text and here we define it as display_text(text). Which is self explanatory. \n",
    "\n",
    "Now define a main function that calls the get_website_text function defined above in the class, and output of get_website_text is passed to the display_text function that we just created, that will help to Markdown in the notebook. \n",
    "\n",
    "if name == \"main\": This block ensures that main() runs only when the script is executed directly (not imported as a module). After running main, it prints completion and help messages for the user."
   ]
  },
  {
   "cell_type": "code",
   "execution_count": 9,
   "id": "89e1e8e8",
   "metadata": {},
   "outputs": [
    {
     "data": {
      "text/markdown": [
       "pankajtechblogsHomepageOpen in appSign inGet startedPankaj Tech BlogsSharing the learningsFollowFollowingOrder Processing System — using Event Driven ArchitectureOrder Processing System — using Event Driven Architecture1. IntroductionPankaj SharmaMar 13Hubble Observability with Cilium — KubernetesHubble Observability with Cilium — KubernetesIn continuation with the previous blog on Zero Trust Networking with Cilium on Kubernetes, let us see how we can establish observability…Pankaj SharmaApr 11, 2024Cilium Network Policy (CNP)—Zero Trust Networking — KubernetesCilium Network Policy (CNP)—Zero Trust Networking — KubernetesNetworking is at the heart of Kubernetes (K8s). When it comes to the connectivity, we need to look forward at the 4 typical use cases (as…Pankaj SharmaApr 11, 2024Spring cloud config server — Auto reload config properties — zero-touchSpring cloud config server — Auto reload config properties — zero-touchIn a distributed system, Spring Cloud Config provides server-side and client-side support for externalized configuration.Pankaj SharmaSep 4, 2023JWT validation — Single Usage — One-time validJWT validation — Single Usage — One-time validSigned JSON Web Token (JWT) is an industry-standard method for exchanging claims securely between two parties. And for…Pankaj SharmaAug 21, 2023Split-key encryption- Securing the data at restSplit-key encryption- Securing the data at restPankaj SharmaAug 17, 2022Disaster Recovery Strategies for Cloud ApplicationsDisaster Recovery Strategies for Cloud ApplicationsWhen we talk about Disaster Recovery aka DR, as a first thought we always think for multi-region replication of workloads. This is true to…Pankaj SharmaJan 25, 2022Database per service — Microservices Design PatternDatabase per service — Microservices Design PatternAny enterprise application will need to persist data in some or another way. For temporary purposes maybe it uses the Cache layer, and for…Pankaj SharmaAug 1, 2021Cloud Migration Strategy — On-Premises to CloudCloud Migration Strategy — On-Premises to CloudLet’s discuss — what is the cloud migration strategy to move the on-prem resources/servers/applications/systems to the cloud.Pankaj SharmaJul 25, 2021Spring Boot Application Monitoring using Prometheus + GrafanaSpring Boot Application Monitoring using Prometheus + GrafanaPankaj SharmaJul 19, 2021Why to use Circuit Breaker Pattern? — Microservices Design PatternWhy to use Circuit Breaker Pattern? — Microservices Design PatternIn the microservices architecture, multiple services are deployed onto the cluster(s), and these services may have Inter-service…Pankaj SharmaJul 16, 2021How to edit an Apigee Proxy?How to edit an Apigee Proxy?Welcome back, this is a continuation of my previous blog —  https://iampankajsharma.medium.com/how-to-create-apigee-api-proxy-219fa2df1425Pankaj SharmaJul 10, 2021How to create Apigee API Proxy?How to create Apigee API Proxy?Welcome back, this is a continuation of my previous blog — https://iampankajsharma.medium.com/why-to-use-an-api-gateway-b36c9988f581Pankaj SharmaJul 10, 2021Why to use an API Gateway?Why to use an API Gateway?Gateway — Chowkidaar (in the Hindi language), that will look after our home for safety and protecting us in some way. Homes in technical…Pankaj SharmaJul 8, 2021About pankajtechblogsLatest StoriesArchiveAbout MediumTermsPrivacyTeams"
      ],
      "text/plain": [
       "<IPython.core.display.Markdown object>"
      ]
     },
     "metadata": {},
     "output_type": "display_data"
    },
    {
     "name": "stdout",
     "output_type": "stream",
     "text": [
      "Done!\n",
      "You can now use the text from the website. \n",
      " If you need further assistance, feel free to ask!\n"
     ]
    }
   ],
   "source": [
    "def display_text(text):\n",
    "    if text:\n",
    "        display(Markdown(text))\n",
    "    else:\n",
    "        print(\"No text to display.\")\n",
    "\n",
    "def main():\n",
    "    url = \"https://pankajtechblogs.dev/\"\n",
    "    website_data = WebsiteScraper(url)\n",
    "    display_text(website_data.content)\n",
    "    return website_data.content\n",
    "\n",
    "if __name__ == \"__main__\":\n",
    "    main()\n",
    "    print(\"Done!\")\n",
    "    print(\"You can now use the text from the website. \\n If you need further assistance, feel free to ask!\")"
   ]
  },
  {
   "cell_type": "markdown",
   "id": "98f1c853",
   "metadata": {},
   "source": [
    "Now whatever content is scrapped we will pass it to our LLM model to generate a nice summary for it. \n",
    "\n",
    "As we already discussed above that we interact with LLM using some instructions that are to be passed in a particular way. \n",
    "\n",
    "**SystemPrompt** - tells models what task they have to perform and what tone they should use, like business, formal, funny etc. \n",
    "\n",
    "**UserPrompt** - Conversation start that user provides.\n",
    "\n",
    "Lets us define each of them here."
   ]
  },
  {
   "cell_type": "code",
   "execution_count": 10,
   "id": "41098ec4",
   "metadata": {},
   "outputs": [],
   "source": [
    "system_prompt = \"You are an assistant that analyzes the contents of a website \\\n",
    "and provides a short summary, ignoring text that might be related to navigation or links. \\\n",
    "Response should be in markdown.\"\n",
    "\n",
    "def user_prompt_for(website_text):\n",
    "    user_prompt = \"You are looking at a website\\nThe contents of this website is as follows \\n \\\n",
    "please provide a short summary of this website in markdown. \\n\"\n",
    "    user_prompt += website_text\n",
    "    return user_prompt"
   ]
  },
  {
   "cell_type": "code",
   "execution_count": 11,
   "id": "d4656756",
   "metadata": {},
   "outputs": [
    {
     "name": "stdout",
     "output_type": "stream",
     "text": [
      "You are looking at a website\n",
      "The contents of this website is as follows \n",
      " please provide a short summary of this website in markdown. \n",
      "pankajtechblogsHomepageOpen in appSign inGet startedPankaj Tech BlogsSharing the learningsFollowFollowingOrder Processing System — using Event Driven ArchitectureOrder Processing System — using Event Driven Architecture1. IntroductionPankaj SharmaMar 13Hubble Observability with Cilium — KubernetesHubble Observability with Cilium — KubernetesIn continuation with the previous blog on Zero Trust Networking with Cilium on Kubernetes, let us see how we can establish observability…Pankaj SharmaApr 11, 2024Cilium Network Policy (CNP)—Zero Trust Networking — KubernetesCilium Network Policy (CNP)—Zero Trust Networking — KubernetesNetworking is at the heart of Kubernetes (K8s). When it comes to the connectivity, we need to look forward at the 4 typical use cases (as…Pankaj SharmaApr 11, 2024Spring cloud config server — Auto reload config properties — zero-touchSpring cloud config server — Auto reload config properties — zero-touchIn a distributed system, Spring Cloud Config provides server-side and client-side support for externalized configuration.Pankaj SharmaSep 4, 2023JWT validation — Single Usage — One-time validJWT validation — Single Usage — One-time validSigned JSON Web Token (JWT) is an industry-standard method for exchanging claims securely between two parties. And for…Pankaj SharmaAug 21, 2023Split-key encryption- Securing the data at restSplit-key encryption- Securing the data at restPankaj SharmaAug 17, 2022Disaster Recovery Strategies for Cloud ApplicationsDisaster Recovery Strategies for Cloud ApplicationsWhen we talk about Disaster Recovery aka DR, as a first thought we always think for multi-region replication of workloads. This is true to…Pankaj SharmaJan 25, 2022Database per service — Microservices Design PatternDatabase per service — Microservices Design PatternAny enterprise application will need to persist data in some or another way. For temporary purposes maybe it uses the Cache layer, and for…Pankaj SharmaAug 1, 2021Cloud Migration Strategy — On-Premises to CloudCloud Migration Strategy — On-Premises to CloudLet’s discuss — what is the cloud migration strategy to move the on-prem resources/servers/applications/systems to the cloud.Pankaj SharmaJul 25, 2021Spring Boot Application Monitoring using Prometheus + GrafanaSpring Boot Application Monitoring using Prometheus + GrafanaPankaj SharmaJul 19, 2021Why to use Circuit Breaker Pattern? — Microservices Design PatternWhy to use Circuit Breaker Pattern? — Microservices Design PatternIn the microservices architecture, multiple services are deployed onto the cluster(s), and these services may have Inter-service…Pankaj SharmaJul 16, 2021How to edit an Apigee Proxy?How to edit an Apigee Proxy?Welcome back, this is a continuation of my previous blog —  https://iampankajsharma.medium.com/how-to-create-apigee-api-proxy-219fa2df1425Pankaj SharmaJul 10, 2021How to create Apigee API Proxy?How to create Apigee API Proxy?Welcome back, this is a continuation of my previous blog — https://iampankajsharma.medium.com/why-to-use-an-api-gateway-b36c9988f581Pankaj SharmaJul 10, 2021Why to use an API Gateway?Why to use an API Gateway?Gateway — Chowkidaar (in the Hindi language), that will look after our home for safety and protecting us in some way. Homes in technical…Pankaj SharmaJul 8, 2021About pankajtechblogsLatest StoriesArchiveAbout MediumTermsPrivacyTeams\n"
     ]
    }
   ],
   "source": [
    "print(user_prompt_for(WebsiteScraper(\"https://pankajtechblogs.dev/\").content))"
   ]
  },
  {
   "cell_type": "code",
   "execution_count": 13,
   "id": "f0525aad",
   "metadata": {},
   "outputs": [
    {
     "data": {
      "text/markdown": [
       "# Summary of Pankaj Tech Blogs Website\n",
       "=====================================\n",
       "\n",
       "### About the Blog\n",
       "\n",
       "The blog is written by Pankaj Sharma and primarily focuses on sharing learnings in various technology domains.\n",
       "\n",
       "### Topics Covered\n",
       "\n",
       "* **Security**\n",
       "\t+ Hubble Observability with Cilium (Kubernetes)\n",
       "\t+ JWT validation\n",
       "\t+ Split-key encryption for securing data at rest\n",
       "\t+ Disaster Recovery Strategies for Cloud Applications\n",
       "* **Cloud Computing**\n",
       "\t+ Cloud Migration Strategy from On-Premises to Cloud\n",
       "\t+ Spring Boot Application Monitoring using Prometheus + Grafana\n",
       "* **API Gateway and Microservices Design Pattern**\n",
       "\t+ Why use an API Gateway?\n",
       "\t+ How to create Apigee API Proxy\n",
       "\t+ Circuit Breaker Pattern for Microservices Design Pattern\n",
       "\n",
       "### Writing Style\n",
       "\n",
       "The blog articles are written in a conversational tone, with Pankaj Sharma sharing his experiences and learnings from various projects and technologies. The content is well-structured and easy to read, making it suitable for both beginners and experienced professionals in the technology industry."
      ],
      "text/plain": [
       "<IPython.core.display.Markdown object>"
      ]
     },
     "metadata": {},
     "output_type": "display_data"
    },
    {
     "name": "stdout",
     "output_type": "stream",
     "text": [
      "Done!\n",
      "Here is the summary. \n",
      "If you need further assistance, feel free to ask!\n"
     ]
    }
   ],
   "source": [
    "def messages_for(website_text):\n",
    "    return [\n",
    "        {\"role\": \"system\", \"content\": system_prompt},\n",
    "        {\"role\": \"user\", \"content\": user_prompt_for(website_text)}\n",
    "    ]\n",
    "\n",
    "def summarize(url):\n",
    "    website = WebsiteScraper(url)\n",
    "    payload = {\n",
    "        \"model\": MODEL,\n",
    "        \"messages\": messages_for(website.content),\n",
    "        \"temperature\": 0.7,\n",
    "        \"max_tokens\": 1000,\n",
    "        \"stream\": False\n",
    "    }\n",
    "    response = requests.post(OLLAMA_API, headers=HEADERS, json=payload, stream=True)\n",
    "    return response.json()['message']['content']\n",
    "\n",
    "\n",
    "def display_summary(url):\n",
    "    summary = summarize(url)\n",
    "    display(Markdown(summary))\n",
    "    \n",
    "\n",
    "display_summary(\"https://pankajtechblogs.dev/\")\n",
    "print(\"Done!\")\n",
    "print(\"Here is the summary. \\nIf you need further assistance, feel free to ask!\")"
   ]
  },
  {
   "cell_type": "markdown",
   "id": "017f3e76",
   "metadata": {},
   "source": [
    "> Above summary was generated by LLM Model.\n",
    "\n",
    "# **Well, now that we learnt some cool stuff :-)**\n",
    "\n",
    "### Lets also see the practical business use cases for the workflow demonstrated in this notebook:\n",
    "\n",
    "**Content Summarization:**\n",
    "Automatically summarize long articles, reports, or web pages for newsletters, executive briefs, or dashboards.\n",
    "\n",
    "**Market & Competitor Monitoring:**\n",
    "Scrape competitor websites or industry news portals and generate concise summaries for market intelligence.\n",
    "\n",
    "**Customer Support:**\n",
    "Summarize FAQ pages, documentation, or support forums to provide quick answers to customer queries.\n",
    "\n",
    "**Research Automation:**\n",
    "Aggregate and summarize research papers, blogs, or news articles for analysts or researchers.\n",
    "\n",
    "**SEO & Content Curation:**\n",
    "Curate and summarize trending topics or blog posts for content marketing and SEO teams.\n",
    "\n",
    "**Internal Knowledge Management:**\n",
    "Scrape and summarize internal wikis, policy documents, or meeting notes for easy reference.\n",
    "\n",
    "**Regulatory & Compliance Monitoring:**\n",
    "Summarize updates from regulatory bodies’ websites to keep compliance teams informed.\n",
    "\n",
    "**Product/Service Monitoring:**\n",
    "Track and summarize reviews or feedback from product pages or forums.\n",
    "\n",
    "This AI workflow saves time, improves information accessibility, and enables faster, data-driven decision-making across various business functions including some of the above ones. \n",
    "\n",
    "\n",
    "### Thanks for staying with me till here. Happy Learnings. Let's DIY (Do it yourself...)..!!"
   ]
  },
  {
   "cell_type": "markdown",
   "id": "272464c6",
   "metadata": {},
   "source": []
  }
 ],
 "metadata": {
  "kernelspec": {
   "display_name": "venv",
   "language": "python",
   "name": "python3"
  },
  "language_info": {
   "codemirror_mode": {
    "name": "ipython",
    "version": 3
   },
   "file_extension": ".py",
   "mimetype": "text/x-python",
   "name": "python",
   "nbconvert_exporter": "python",
   "pygments_lexer": "ipython3",
   "version": "3.11.9"
  }
 },
 "nbformat": 4,
 "nbformat_minor": 5
}
