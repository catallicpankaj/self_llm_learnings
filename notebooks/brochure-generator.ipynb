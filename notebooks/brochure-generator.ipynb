{
 "cells": [
  {
   "cell_type": "markdown",
   "id": "ebffb211",
   "metadata": {},
   "source": [
    "Here’s a summary of what has been done so far in the brochure-generator.ipynb notebook:\n",
    "\n",
    "Imported required libraries for web scraping, environment management, and OpenAI API access.\n",
    "Loaded the OpenAI API key from environment variables and initialized the OpenAI client with the GPT-4o-mini model.\n",
    "Defined a Website class to scrape a given URL, extract the main text content (excluding scripts, styles, images, and input tags), and collect all links from the page.\n",
    "Instantiated the Website class for a sample website and extracted its links.\n",
    "Created a system prompt for the LLM to help identify which links are relevant for a company brochure (e.g., About, Careers).\n",
    "Defined a user prompt function to format the list of links for the LLM and ask it to select the most relevant ones.\n",
    "Implemented a function to call the LLM (using OpenAI’s API) to analyze the links and return a JSON object with only the brochure-relevant links.\n",
    "In summary:\n",
    "The notebook sets up web scraping for a company website, gathers all links, and uses an LLM to intelligently filter and select the most relevant links for inclusion in a company brochure."
   ]
  },
  {
   "cell_type": "markdown",
   "id": "49fe3944",
   "metadata": {},
   "source": [
    "Import all the requried libraries."
   ]
  },
  {
   "cell_type": "code",
   "execution_count": 1,
   "id": "03ba00d0",
   "metadata": {},
   "outputs": [],
   "source": [
    "import os, requests, json\n",
    "from typing import List\n",
    "from dotenv import load_dotenv\n",
    "from bs4 import BeautifulSoup\n",
    "from IPython.display import display, Markdown, update_display\n",
    "from openai import OpenAI"
   ]
  },
  {
   "cell_type": "markdown",
   "id": "8a917f4c",
   "metadata": {},
   "source": [
    "Initialize and constants."
   ]
  },
  {
   "cell_type": "code",
   "execution_count": 2,
   "id": "a728d804",
   "metadata": {},
   "outputs": [
    {
     "name": "stdout",
     "output_type": "stream",
     "text": [
      "API key found and looks good so far!\n"
     ]
    }
   ],
   "source": [
    "load_dotenv(override=True)\n",
    "api_key = os.getenv('OPENAI_API_KEY')\n",
    "if not api_key:\n",
    "    print(\"No API key was found\")\n",
    "else:\n",
    "    print(\"API key found and looks good so far!\")\n",
    "\n",
    "MODEL = \"gpt-4o-mini\"\n",
    "openai = OpenAI()"
   ]
  },
  {
   "cell_type": "markdown",
   "id": "2fe5b4bd",
   "metadata": {},
   "source": [
    "Now lets define a class to Website to scrape the content of the website data and links by skipping any script style img and input tags."
   ]
  },
  {
   "cell_type": "code",
   "execution_count": 3,
   "id": "7932eb7c",
   "metadata": {},
   "outputs": [],
   "source": [
    "headers = {\n",
    " \"User-Agent\": \"Mozilla/5.0 (Windows NT 10.0; Win64; x64) AppleWebKit/537.36 (KHTML, like Gecko) Chrome/117.0.0.0 Safari/537.36\"\n",
    "}\n",
    "\n",
    "class Website:\n",
    "    \"\"\"\n",
    "    A utility class to represent a Website that we have scraped, now with links\n",
    "    \"\"\"\n",
    "    def __init__(self, url):\n",
    "        self.url = url\n",
    "        response = requests.get(url, headers=headers)\n",
    "        self.body = response.content\n",
    "        soup = BeautifulSoup(self.body, 'html.parser')\n",
    "        self.title = soup.title.string if soup.title else \"No title found\"\n",
    "        if soup.body:\n",
    "            for irrelevant in soup.body([\"script\", \"style\", \"img\", \"input\"]):\n",
    "                irrelevant.decompose()\n",
    "            self.text = soup.body.get_text(separator=\"\\n\", strip=True)\n",
    "        else:\n",
    "            self.text = \"\"\n",
    "        links = [link.get('href') for link in soup.find_all('a')]\n",
    "        self.links = [link for link in links if link]\n",
    "\n",
    "    def get_contents(self):\n",
    "        return f\"Webpage Title:\\n{self.title}\\nWebpage Contents:\\n{self.text}\\n\\n\""
   ]
  },
  {
   "cell_type": "code",
   "execution_count": 4,
   "id": "f6b87557",
   "metadata": {},
   "outputs": [
    {
     "data": {
      "text/plain": [
       "['https://medium.com/',\n",
       " 'https://rsci.app.link/?%24canonical_url=https%3A%2F%2Fmedium.com/iampankajsharma%3F~feature=LoMobileNavBar&~channel=ShowCollectionHome&~stage=m2',\n",
       " 'https://medium.com/m/signin?redirect=https%3A%2F%2Fpankajtechblogs.dev%2F&source=--------------------------nav_reg&operation=login',\n",
       " 'https://medium.com/m/signin?redirect=https%3A%2F%2Fpankajtechblogs.dev%2F&source=--------------------------nav_reg&operation=register',\n",
       " 'https://pankajtechblogs.dev',\n",
       " 'https://pankajtechblogs.dev',\n",
       " 'https://pankajtechblogs.dev/order-processing-system-using-event-driven-architecture-472bfc47cb06?source=collection_home---4------0-----------------------',\n",
       " 'https://pankajtechblogs.dev/order-processing-system-using-event-driven-architecture-472bfc47cb06?source=collection_home---4------0-----------------------',\n",
       " 'https://pankajtechblogs.dev/@iampankajsharma',\n",
       " 'https://pankajtechblogs.dev/@iampankajsharma',\n",
       " 'https://pankajtechblogs.dev/hubble-observability-with-cilium-kubernetes-6723a3056dfc?source=collection_home---4------1-----------------------',\n",
       " 'https://pankajtechblogs.dev/hubble-observability-with-cilium-kubernetes-6723a3056dfc?source=collection_home---4------1-----------------------',\n",
       " 'https://pankajtechblogs.dev/@iampankajsharma',\n",
       " 'https://pankajtechblogs.dev/@iampankajsharma',\n",
       " 'https://pankajtechblogs.dev/cilium-network-policy-cnp-zero-trust-networking-kubernetes-1c310151c772?source=collection_home---4------2-----------------------',\n",
       " 'https://pankajtechblogs.dev/cilium-network-policy-cnp-zero-trust-networking-kubernetes-1c310151c772?source=collection_home---4------2-----------------------',\n",
       " 'https://pankajtechblogs.dev/@iampankajsharma',\n",
       " 'https://pankajtechblogs.dev/@iampankajsharma',\n",
       " 'https://pankajtechblogs.dev/spring-cloud-config-server-auto-reload-config-properties-zero-touch-63c4423beb59?source=collection_home---4------3-----------------------',\n",
       " 'https://pankajtechblogs.dev/spring-cloud-config-server-auto-reload-config-properties-zero-touch-63c4423beb59?source=collection_home---4------3-----------------------',\n",
       " 'https://pankajtechblogs.dev/@iampankajsharma',\n",
       " 'https://pankajtechblogs.dev/@iampankajsharma',\n",
       " 'https://pankajtechblogs.dev/jwt-validation-single-usage-one-time-valid-fba482f29f7d?source=collection_home---4------4-----------------------',\n",
       " 'https://pankajtechblogs.dev/jwt-validation-single-usage-one-time-valid-fba482f29f7d?source=collection_home---4------4-----------------------',\n",
       " 'https://pankajtechblogs.dev/@iampankajsharma',\n",
       " 'https://pankajtechblogs.dev/@iampankajsharma',\n",
       " 'https://pankajtechblogs.dev/split-key-encryption-securing-the-data-at-rest-771e8f7157ae?source=collection_home---4------5-----------------------',\n",
       " 'https://pankajtechblogs.dev/split-key-encryption-securing-the-data-at-rest-771e8f7157ae?source=collection_home---4------5-----------------------',\n",
       " 'https://pankajtechblogs.dev/@iampankajsharma',\n",
       " 'https://pankajtechblogs.dev/@iampankajsharma',\n",
       " 'https://pankajtechblogs.dev/disaster-recovery-for-cloud-applications-d7402d0332d5?source=collection_home---4------6-----------------------',\n",
       " 'https://pankajtechblogs.dev/disaster-recovery-for-cloud-applications-d7402d0332d5?source=collection_home---4------6-----------------------',\n",
       " 'https://pankajtechblogs.dev/@iampankajsharma',\n",
       " 'https://pankajtechblogs.dev/@iampankajsharma',\n",
       " 'https://pankajtechblogs.dev/database-per-service-microservices-design-pattern-30bad3a385bd?source=collection_home---4------7-----------------------',\n",
       " 'https://pankajtechblogs.dev/database-per-service-microservices-design-pattern-30bad3a385bd?source=collection_home---4------7-----------------------',\n",
       " 'https://pankajtechblogs.dev/@iampankajsharma',\n",
       " 'https://pankajtechblogs.dev/@iampankajsharma',\n",
       " 'https://pankajtechblogs.dev/cloud-migration-strategy-on-premises-to-cloud-9220872f09c9?source=collection_home---4------8-----------------------',\n",
       " 'https://pankajtechblogs.dev/cloud-migration-strategy-on-premises-to-cloud-9220872f09c9?source=collection_home---4------8-----------------------',\n",
       " 'https://pankajtechblogs.dev/@iampankajsharma',\n",
       " 'https://pankajtechblogs.dev/@iampankajsharma',\n",
       " 'https://pankajtechblogs.dev/spring-boot-application-monitoring-using-prometheus-grafana-c9c0e6c001da?source=collection_home---4------9-----------------------',\n",
       " 'https://pankajtechblogs.dev/spring-boot-application-monitoring-using-prometheus-grafana-c9c0e6c001da?source=collection_home---4------9-----------------------',\n",
       " 'https://pankajtechblogs.dev/@iampankajsharma',\n",
       " 'https://pankajtechblogs.dev/@iampankajsharma',\n",
       " 'https://pankajtechblogs.dev/why-to-use-circuit-breaker-pattern-7c988c099f49?source=collection_home---4------10-----------------------',\n",
       " 'https://pankajtechblogs.dev/why-to-use-circuit-breaker-pattern-7c988c099f49?source=collection_home---4------10-----------------------',\n",
       " 'https://pankajtechblogs.dev/@iampankajsharma',\n",
       " 'https://pankajtechblogs.dev/@iampankajsharma',\n",
       " 'https://pankajtechblogs.dev/how-to-edit-an-apigee-proxy-f064516994c0?source=collection_home---4------11-----------------------',\n",
       " 'https://pankajtechblogs.dev/how-to-edit-an-apigee-proxy-f064516994c0?source=collection_home---4------11-----------------------',\n",
       " 'https://pankajtechblogs.dev/@iampankajsharma',\n",
       " 'https://pankajtechblogs.dev/@iampankajsharma',\n",
       " 'https://pankajtechblogs.dev/how-to-create-apigee-api-proxy-219fa2df1425?source=collection_home---4------12-----------------------',\n",
       " 'https://pankajtechblogs.dev/how-to-create-apigee-api-proxy-219fa2df1425?source=collection_home---4------12-----------------------',\n",
       " 'https://pankajtechblogs.dev/@iampankajsharma',\n",
       " 'https://pankajtechblogs.dev/@iampankajsharma',\n",
       " 'https://pankajtechblogs.dev/why-to-use-an-api-gateway-b36c9988f581?source=collection_home---4------13-----------------------',\n",
       " 'https://pankajtechblogs.dev/why-to-use-an-api-gateway-b36c9988f581?source=collection_home---4------13-----------------------',\n",
       " 'https://pankajtechblogs.dev/@iampankajsharma',\n",
       " 'https://pankajtechblogs.dev/@iampankajsharma',\n",
       " 'https://pankajtechblogs.dev/about',\n",
       " 'https://pankajtechblogs.dev/latest',\n",
       " 'https://pankajtechblogs.dev/archive',\n",
       " 'https://medium.com/about',\n",
       " 'https://policy.medium.com/medium-terms-of-service-9db0094a1e0f',\n",
       " 'https://policy.medium.com/medium-privacy-policy-f03bf92035c9',\n",
       " 'https://medium.com/business']"
      ]
     },
     "execution_count": 4,
     "metadata": {},
     "output_type": "execute_result"
    }
   ],
   "source": [
    "website = Website(\"https://pankajtechblogs.dev/\")\n",
    "website.links"
   ]
  },
  {
   "cell_type": "markdown",
   "id": "4e977646",
   "metadata": {},
   "source": [
    "Now since we have all the website content and related links - let us use LLM Model to produce a brochure wuth relevant links. As not all links will be relevant for the purpose. \n",
    "\n",
    "Lets define a dictionary for the LLM Model here, using system_prompt"
   ]
  },
  {
   "cell_type": "code",
   "execution_count": 5,
   "id": "0e6242e1",
   "metadata": {},
   "outputs": [],
   "source": [
    "link_system_prompt = \"You are provided with a list of links found on a webpage. \\\n",
    "You are able to decide which of the links would be most relevant to include in a brochure about the company, \\\n",
    "such as links to an About page, or a Company page, or Careers/Jobs pages.\\n\"\n",
    "link_system_prompt += \"You should respond in JSON as in this example:\"\n",
    "link_system_prompt += \"\"\"\n",
    "{\n",
    "    \"links\": [\n",
    "        {\"type\": \"about page\", \"url\": \"https://full.url/goes/here/about\"},\n",
    "        {\"type\": \"careers page\": \"url\": \"https://another.full.url/careers\"}\n",
    "    ]\n",
    "}\n",
    "\"\"\""
   ]
  },
  {
   "cell_type": "markdown",
   "id": "b90848dd",
   "metadata": {},
   "source": [
    "Now lets define the user prompt."
   ]
  },
  {
   "cell_type": "code",
   "execution_count": 6,
   "id": "1c9ef354",
   "metadata": {},
   "outputs": [],
   "source": [
    "def get_links_user_prompt(website):\n",
    "    user_prompt = f\"Here is the list of links on the website of {website.url} - \"\n",
    "    user_prompt += \"please decide which of these are relevant web links for a brochure about the company, respond with the full https URL in JSON format. \\\n",
    "Do not include Terms of Service, Privacy, email links.\\n\"\n",
    "    user_prompt += \"Links (some might be relative links):\\n\"\n",
    "    user_prompt += \"\\n\".join(website.links)\n",
    "    return user_prompt"
   ]
  },
  {
   "cell_type": "markdown",
   "id": "8b1fc495",
   "metadata": {},
   "source": [
    "Let us use power of LLM, and define a function get_links, that will use above system and user prompts, and hit the LLM, and retrieve the LLM response for relevant links that would be helpful for including in the brochure."
   ]
  },
  {
   "cell_type": "code",
   "execution_count": 7,
   "id": "7396e8cc",
   "metadata": {},
   "outputs": [],
   "source": [
    "def get_links(url):\n",
    "    website = Website(url)\n",
    "    response = openai.chat.completions.create(\n",
    "        model=MODEL,\n",
    "        messages=[\n",
    "            {\"role\": \"system\", \"content\": link_system_prompt},\n",
    "            {\"role\": \"user\", \"content\": get_links_user_prompt(website)}\n",
    "      ],\n",
    "        response_format={\"type\": \"json_object\"}\n",
    "    )\n",
    "    result = response.choices[0].message.content\n",
    "    return json.loads(result)"
   ]
  },
  {
   "cell_type": "markdown",
   "id": "5a992ffb",
   "metadata": {},
   "source": [
    "Now let us write get_all_details function takes a website URL and performs the following steps:\n",
    "\n",
    "- Scrapes and adds the website home page content to the result.\n",
    "- Uses an LLM to identify and retrieve only the most brochure-relevant links from the page.\n",
    "- For each relevant link, it fetches and appends the content of that linked page to the result, labeling each section by its type (e.g., \"about page\", \"careers page\").\n",
    "- Returns a combined string containing the landing page content and the contents of all selected relevant subpages.\n",
    "\n",
    "This function automates gathering and organizing all key information needed for a company brochure from a website."
   ]
  },
  {
   "cell_type": "code",
   "execution_count": 8,
   "id": "42c15e24",
   "metadata": {},
   "outputs": [],
   "source": [
    "def get_all_details(url):\n",
    "    result = \"Website home page:\\n\"\n",
    "    result += Website(url).get_contents()\n",
    "    links = get_links(url)\n",
    "    print(\"Found links:\", links)\n",
    "    for link in links[\"links\"]:\n",
    "        result += f\"\\n\\n{link['type']}\\n\"\n",
    "        result += Website(link[\"url\"]).get_contents()\n",
    "    return result"
   ]
  },
  {
   "cell_type": "markdown",
   "id": "4aefeba7",
   "metadata": {},
   "source": [
    "Now lets finally write system and user prompt, to relevant information for creating the company brochure and create the brochure."
   ]
  },
  {
   "cell_type": "code",
   "execution_count": 9,
   "id": "b1363727",
   "metadata": {},
   "outputs": [],
   "source": [
    "system_prompt = \"You are an assistant that analyzes the contents of several relevant pages from a company website \\\n",
    "and creates a short brochure about the company for prospective customers, investors and recruits. Respond in markdown.\\\n",
    "Include details of company culture, customers and careers/jobs if you have the information.\""
   ]
  },
  {
   "cell_type": "code",
   "execution_count": 10,
   "id": "2ad12765",
   "metadata": {},
   "outputs": [],
   "source": [
    "def get_brochure_user_prompt(company_name, url):\n",
    "    user_prompt = f\"You are looking at a company called: {company_name}\\n\"\n",
    "    user_prompt += f\"Here are the contents of its home page and other relevant pages; use this information to build a short brochure of the company in markdown.\\n\"\n",
    "    user_prompt += get_all_details(url)\n",
    "    user_prompt = user_prompt[:5_000] # Truncate if more than 5,000 characters\n",
    "    return user_prompt"
   ]
  },
  {
   "cell_type": "code",
   "execution_count": 11,
   "id": "4bc11806",
   "metadata": {},
   "outputs": [],
   "source": [
    "def create_brochure(company_name, url):\n",
    "    response = openai.chat.completions.create(\n",
    "        model=MODEL,\n",
    "        messages=[\n",
    "            {\"role\": \"system\", \"content\": system_prompt},\n",
    "            {\"role\": \"user\", \"content\": get_brochure_user_prompt(company_name, url)}\n",
    "          ],\n",
    "    )\n",
    "    result = response.choices[0].message.content\n",
    "    display(Markdown(result))"
   ]
  },
  {
   "cell_type": "code",
   "execution_count": 12,
   "id": "8418fefe",
   "metadata": {},
   "outputs": [
    {
     "name": "stdout",
     "output_type": "stream",
     "text": [
      "Found links: {'links': [{'type': 'about page', 'url': 'https://pankajtechblogs.dev/about'}]}\n"
     ]
    },
    {
     "data": {
      "text/markdown": [
       "# Pankaj Tech Blogs Brochure\n",
       "\n",
       "---\n",
       "\n",
       "## Welcome to Pankaj Tech Blogs\n",
       "\n",
       "### Sharing Knowledge and Empowering Learning\n",
       "\n",
       "At Pankaj Tech Blogs, we believe in learning through practical experience. Our platform provides self-explanatory, concise, and accessible blog posts aimed at demystifying complex tech concepts for enthusiasts and professionals alike.\n",
       "\n",
       "---\n",
       "\n",
       "### Our Mission\n",
       "\n",
       "Our mission is to simplify technology for everyone, regardless of their background. We design our content to be user-friendly, ensuring that even those without prior knowledge can understand and engage with the topics we cover.\n",
       "\n",
       "---\n",
       "\n",
       "### Featured Topics\n",
       "\n",
       "- **Event Driven Architecture**: Explore innovative solutions like order processing systems.\n",
       "- **Kubernetes and Observability**: Delve into advanced networking practices and zero trust networking.\n",
       "- **Cloud Migration Strategies**: Learn essential techniques for smooth transitions from on-premises to cloud.\n",
       "- **Microservices Design Patterns**: Understand vital patterns such as circuit breaker and database per service.\n",
       "- **Security Practices**: Information on JWT validation and split-key encryption for secure data handling.\n",
       "\n",
       "---\n",
       "\n",
       "### Meet Our Founder\n",
       "\n",
       "**Pankaj Sharma**  \n",
       "A passionate tech enthusiast, Pankaj is dedicated to exploring various tech stacks and frameworks. With years of experience in the IT industry, he brings a wealth of knowledge that he shares through engaging and insightful blogs.\n",
       "\n",
       "---\n",
       "\n",
       "### Company Culture\n",
       "\n",
       "At Pankaj Tech Blogs, we foster a culture of curiosity and continuous learning. We believe that technology should be accessible and that sharing knowledge plays a crucial role in professional growth. Our environment encourages exploration, collaboration, and innovation.\n",
       "\n",
       "---\n",
       "\n",
       "### Who Are Our Readers?\n",
       "\n",
       "Our blogs cater to a wide range of audiences, including:\n",
       "\n",
       "- **Tech Enthusiasts**: Individuals eager to learn about emerging technologies and best practices.\n",
       "- **Developers**: Professionals looking for practical insights to improve their work and projects.\n",
       "- **Students**: Learners wanting to build a solid tech foundation for their future careers.\n",
       "\n",
       "---\n",
       "\n",
       "### Career Opportunities\n",
       "\n",
       "We are continually looking for passionate writers and tech enthusiasts to join our community. If you have a love for technology and a desire to share knowledge with others, Pankaj Tech Blogs is the place for you!\n",
       "\n",
       "---\n",
       "\n",
       "### Join Us!\n",
       "\n",
       "**Get Started Today!**  \n",
       "Empower yourself through knowledge by exploring our blog at [Pankaj Tech Blogs](https://example.com) (link not real) and follow us on our journey towards simplifying technology for everyone.\n",
       "\n",
       "### Contact Us\n",
       "\n",
       "For inquiries, collaborations, or job opportunities, feel free to reach us at [contact@pankajtechblogs.com](mailto:contact@pankajtechblogs.com).\n",
       "\n",
       "---\n",
       "\n",
       "Together, let's simplify technology, one blog at a time!"
      ],
      "text/plain": [
       "<IPython.core.display.Markdown object>"
      ]
     },
     "metadata": {},
     "output_type": "display_data"
    }
   ],
   "source": [
    "create_brochure(\"Pankaj Blogs\", \"https://pankajtechblogs.dev/\")"
   ]
  },
  {
   "cell_type": "code",
   "execution_count": null,
   "id": "3b9ee6dd",
   "metadata": {},
   "outputs": [],
   "source": []
  }
 ],
 "metadata": {
  "kernelspec": {
   "display_name": "venv",
   "language": "python",
   "name": "python3"
  },
  "language_info": {
   "codemirror_mode": {
    "name": "ipython",
    "version": 3
   },
   "file_extension": ".py",
   "mimetype": "text/x-python",
   "name": "python",
   "nbconvert_exporter": "python",
   "pygments_lexer": "ipython3",
   "version": "3.11.9"
  }
 },
 "nbformat": 4,
 "nbformat_minor": 5
}
